{
 "cells": [
  {
   "cell_type": "markdown",
   "metadata": {},
   "source": [
    "<span style=\"color:salmon; font-family:Georgia; font-size:3em;\">\n",
    "Community Action – Mobile application\n",
    "</span>\n",
    "<br>\n",
    "<br>\n",
    "<span style=\"color:indianred; font-family:Georgia; font-size:2em;\">\n",
    "Proof of Concept\n",
    "<br>\n",
    "<hr style=\"border:1.5px solid gray;\"/>"
   ]
  },
  {
   "cell_type": "markdown",
   "metadata": {},
   "source": [
    "<span style=\"color:indianred; font-family:Georgia; font-size:1.6em;\">\n",
    "Context:</span>\n",
    "\n",
    "<span style=\"color:#454545; font-family:Georgia; font-size:1.2em;\">\n",
    "In the face of a disaster, the community needs to come together in an organized way to respond to the crisis. Efficient response pivots on resource allocation, responsiveness and communication. There is currently a need to have a centralized space for the community and the local governments to interact in real-time in order to quickly address emerging needs.\n",
    "</span>\n",
    "<hr style=\"border:0.5px solid gray;\"/>"
   ]
  },
  {
   "cell_type": "markdown",
   "metadata": {},
   "source": [
    "<span style=\"color:indianred; font-family:Georgia; font-size:1.6em;\">\n",
    "Purpose:</span>\n",
    "\n",
    "<span style=\"color:#454545; font-family:Georgia; font-size:1.2em;\">\n",
    "The application centralizes community efforts to respond to a disaster. It consolidates real time needs, identifies affected areas, helps with the allocation of available resources and provides valuable survival information. The data collected from the event can then be used to mitigate risk of future disasters by providing valuable insights.\n",
    "</span>\n",
    "<hr style=\"border:0.5px solid gray;\"/>"
   ]
  },
  {
   "cell_type": "markdown",
   "metadata": {},
   "source": [
    "<span style=\"color:indianred; font-family:Georgia; font-size:1.6em;\">\n",
    "Vision:</span>\n",
    "\n",
    "<span style=\"color:#454545; font-family:Georgia; font-size:1.2em;\">\n",
    "The application is used as the main tool to manage the emerging disaster. Government and communities work together harmoniously. The number of fatalities, injuries, unattended victims and economic losses are reduced since the introduction of the application.\n",
    "</span>\n",
    "<hr style=\"border:0.5px solid gray;\"/>"
   ]
  },
  {
   "cell_type": "markdown",
   "metadata": {},
   "source": [
    "<div style=\"text-align: center;\">\n",
    "    <span style=\"color:darksalmon; font-family:Georgia; font-size:3em;\">\n",
    "        Our Concept\n",
    "    </span>\n",
    "</div>"
   ]
  },
  {
   "cell_type": "markdown",
   "metadata": {},
   "source": [
    "<div style=\"float:left;margin-right:5px;\">\n",
    "<img src=\"https://i.imgur.com/4AtjElB.jpg\" width=\"350\" align=\"right\" style=\"padding:15px;\"/>\n",
    "<p style=\"text-align:center; color:indianred; font-family:Georgia; font-size:2em;\">Landing Page</p>\n",
    "<p style=\"text-alignt:left; color:#454545; font-family:Georgia; font-size:1.3em; letter-spacing: 1.1px;\">The landing page would quickly display the type of event (ex: flood, earthquake, tsunami, hurricane) and the current status of the disaster (Critical, on-going, winding-down, resolved). \n",
    "<br><br><br>This would be managed by the governing entity (either local government or in the absence of local government, unbiased entity such as the UN).\n",
    "<br><br><br>By pulling down on the status, a news feed would appear. This would display any communications by the governing entity and would include crucial information on the current status.\n",
    "<br><br><br>In the menu, the user can then toggle to either the map, the tool kit, the message center, alerts or the volunteer page.\n",
    "</p>\n",
    "</div>"
   ]
  },
  {
   "cell_type": "markdown",
   "metadata": {},
   "source": [
    "<div style=\"float:left;margin-right:5px;\">\n",
    "<img src=\"https://i.imgur.com/AGjxJwL.png\" width=\"355\" align=\"left\" style=\"padding:15px;\"/>\n",
    "<p style=\"text-align:center; color:indianred; font-family:Georgia; font-size:2em;\">'I Need Help' Page</p>\n",
    "<p style=\"text-alignt:right; color:#454545; font-family:Georgia; font-size:1.3em; letter-spacing: 1.1px;\">This page is where someone affected by the disaster can identify that they are selected and then what type of help they need.<br><br>As users identify themselves as affected, the area on the map surrounding the affected users grows. (this is what builds the heat map displaying the affected areas)<br><br>If the person then continues to select what type of help they need, the map data is also uploaded to include their information but depending on the selection criteria of the person offering help or filters applied to the map, the information selected in this page might not display.<br><br>The help they could ask for is divided in to categories then sub-categories:<b> Food, Shelter, Water, Transportation,</b> and <b>Other</b>. <br><br>For example: If a person identifies that they are in need of shelter for 2-4 people, once they go to the map page, the map would display the location of anyone who has identified that they can offer shelter to 2-4 people or would show a government appointed shelter location (school, community centre, etc.). \n",
    "</p>\n",
    "</div>"
   ]
  },
  {
   "cell_type": "markdown",
   "metadata": {},
   "source": [
    "<div style=\"float:left;margin-right:5px;\">\n",
    "<img src=\"https://i.imgur.com/T4AI9ED.png\" width=\"350\" align=\"right\" style=\"padding:15px;\"/>\n",
    "<p style=\"text-align:center; color:indianred; font-family:Georgia; font-size:2em;\">'I Want to Help' Page</p>\n",
    "<p style=\"text-alignt:left; color:#454545; font-family:Georgia; font-size:1.3em; letter-spacing: 1.1px;\">In this page, someone who wants to help can identify which type of help they are able to offer by selecting similar categories to those looking for help (With the addition of a 'Volunteer' option.\n",
    "<br><br><br>Once their selections are made, the interactive map (in another page) is then updated to show their data but would only display the people who have selected that they are looking for help in the same category. <br><br><br>For example: If someone had selected that they are able to offer shelter to a family of 2-4, then once they toggle back to the interactive map, there would be identification icons on the map showing the location of all the people who have identified as being affected and needing shelter for a family of 2-4. The person willing to help would then select one of the displayed icons and by selecting the person’s user name, would be transferred to the message center page for coordinating.\n",
    "</p>\n",
    "</div>"
   ]
  },
  {
   "cell_type": "markdown",
   "metadata": {},
   "source": [
    "<div style=\"float:left;margin-right:5px;\">\n",
    "<img src=\"https://i.imgur.com/VFiXntD.png\" width=\"350\" align=\"left\" style=\"padding:15px;\"/>\n",
    "<p style=\"text-align:center; color:indianred; font-family:Georgia; font-size:2em;\">Interactive Map</p>\n",
    "<p style=\"text-alignt:right; color:#454545; font-family:Georgia; font-size:1.3em; letter-spacing: 1.1px;\">On the page, the user can see a map of the affected areas and can add filters to see local infrastructure (hospitals/medical assistance, shelter resources, and water resources).<br><br><br><br>On the map, all the people willing to offer help and all those affected looking for help are displayed (seeking help and offering help are in two different colors).<br><br><br><br>In order to filter on specific need categories (food, shelter, water, etc.) the person would need to go to either the I need help page or the I want to help page (see above).\n",
    "</p>\n",
    "</div>\n",
    "<br>\n",
    "<hr style=\"border:0.5px solid gray;\"/>\n",
    "<div style=\"float:left;margin-right:5px;\">\n",
    "<p style=\"text-align:center; color:salmon; font-family:Georgia; font-size:2em;\">Use-Case Examples</p>\n",
    "    <p style=\"text-align:left; color:indianred; font-family:Georgia; font-size:1.5em;\">Example I</p>\n",
    "<p style=\"text-alignt:right; color:#454545; font-family:Georgia; font-size:1.3em; letter-spacing: 1.1px;\">If a person identifies that they are in need of shelter for 2-4 people, once they go to the map page, the map would display the location of anyone who has identified that they can offer shelter to 2-4 people or show a government appointed shelter location (school, community center, etc.).Their data on the map is identified as being an “open” request.<br><br>The person seeking help can then select the offering person’s user name displayed in the location pin (icon over their location) and send a request for help.<br><br>In order for the two people to communicate, the person offering must accept the request in the message center, at which point messaging can begin. If the request is accepted, the offering person’s location pin is then removed and is stored in the map database as “pending”. If the two parties are successfully matched, then they both go to their forms page and unselect that they need that type of help which removes their need/offering in the map for that category and makes that selection “completed”.<br><br> In this case, each person would go in to their form page and unselect that they are offering/seeking shelter for a family of 2-4. All other selections, if applicable, remain “open”. A selection can be added again once the seeking person fills out the form in the I need help page and would begin the process again.\n",
    "</p>\n",
    "    <br><br><br>\n",
    "    <p style=\"text-align:left; color:indianred; font-family:Georgia; font-size:1.5em;\">Example II</p>\n",
    "<p style=\"text-alignt:right; color:#454545; font-family:Georgia; font-size:1.3em; letter-spacing: 1.1px;\">If a person identifies that they are in offering shelter for 2-4 people, once they go to the map page, the map would display the location of anyone who has identified that they need shelter for 2-4 people. Their data on the map is identified as being an “open” request.<br><br>The person offering help can then select the seeking person’s user name displayed in the location pin (icon over their location) and send a request for aid.<br><br> In order for the two people to communicate, the person seeking must accept the request in the message center, at which point messaging can begin. If the request is accepted, the offering person’s location pin is then removed and is stored in the map database as “pending”. Note: this is the same as the example above, the seeking person’s pin is not removed in order to increase their chances of people coming to their aid and having multiple requests.<br><br>If the two parties are successfully matched, then they both go to their forms page and unselect that they need that type of help which removes their need/offering in the map for that category and makes that selection “completed”. In this case, each person would go in to their form page and unselect that they are offering/seeking shelter for a family of 2-4. All other selections, if applicable, remain “open”. A selection can be added again once the seeking person fills out the form in the I want to help page and would begin the process again.\n",
    "</p>\n",
    "</div>\n",
    "<hr style=\"border:0.5px solid gray;\"/>\n",
    "<div style=\"float:left;margin-right:5px;\">\n",
    "<p style=\"text-align:left; color:indianred; font-family:Georgia; font-size:2em;\">Other Features</p>\n",
    "    <p style=\"text-align:left; color:indianred; font-family:Georgia; font-size:1.3em;\">Message Centre</p>\n",
    "<p style=\"text-alignt:left; color:#454545; font-family:Georgia; font-size:1.3em; letter-spacing: 1.1px;\">This page would display conversations the user if having with others in their community. They can initiate a conversation by first going on the map and selecting the user name of a person they want to contact. This will send that person a communication request that they must accept in order for communication to begin.\n",
    "    <br><br>\n",
    "    <p style=\"text-align:left; color:indianred; font-family:Georgia; font-size:1.3em;\">Toolkit</p>\n",
    "<p style=\"text-alignt:left; color:#454545; font-family:Georgia; font-size:1.3em; letter-spacing: 1.1px;\">In this page, there is important survival documentation uploaded by the local government or governing entity (in the absence of a local government). These documents are downloaded to the application when the user installs the apps and are available without network connection. The tool kit includes important information on survival for different disaster types based on the emergency plans of the local government. It includes information on where to seek shelter, food, emergency preparedness, etc.\n",
    "    <br><br>\n",
    "    <p style=\"text-align:left; color:indianred; font-family:Georgia; font-size:1.3em;\">Volunteer</p>\n",
    "<p style=\"text-alignt:left; color:#454545; font-family:Georgia; font-size:1.3em; letter-spacing: 1.1px;\">On this page, a list of locations where volunteers are most needed is displayed. Under the title of each location is the address and contact information of that location. This page and the priority listing is managed by the local government or governing entity for the disaster. If a person is looking to volunteer, they can go to this page and chose a location that best suits them while seeing the locations that most need their help. They can then go directly to the location of it available, call the contact number.\n",
    "</p>\n",
    "</div>\n",
    "<hr style=\"border:0.5px solid gray;\"/>\n",
    "<div style=\"float:left;margin-right:5px;\">\n",
    "    <br><br>\n",
    "<p style=\"text-align:left; color:indianred; font-family:Georgia; font-size:2em;\">Web Version</p>\n",
    "<p style=\"text-alignt:left; color:#454545; font-family:Georgia; font-size:1.3em; letter-spacing: 1.1px;\">This application will be generating valuable data that can be used to better manage the current situation as well as evaluate a resolved event in order to better plan for future disasters. A sample of valuable metrics has been produced but could be adjusted to fit the needs of different disasters. <br><br>The idea is that a governing entity (local government or other) can open this web page and quickly see the interactive map from the application which would show the affected areas and their risk (based on number of people affected in the same area). <br><br>You could also see where the people need the most help, and where people are offering the most help. Different visuals would show a time-lapse of the supply and demand for each category (food, water, shelter, etc.) which would help with both current crisis management and retroactive evaluation. <br><br>For example, the graph could show that the demand for food greatly outnumbered the supply in the first week but by week 3, the supply caught up. <br><br>For real time analysis, the governing entity could see that yesterday, the demand for food clearly outstripped the supply and might want to focus its efforts on providing food. <br><br>As a retroactive analysis, the governing entity could conclude that since the demand for food was much higher than the supply, then for future disasters of this nature, efforts should be focused on supplying food in those first few weeks rather than another type of relief.\n",
    "</p>\n",
    "</div>"
   ]
  },
  {
   "cell_type": "code",
   "execution_count": null,
   "metadata": {},
   "outputs": [],
   "source": []
  },
  {
   "cell_type": "code",
   "execution_count": null,
   "metadata": {},
   "outputs": [],
   "source": []
  },
  {
   "cell_type": "code",
   "execution_count": null,
   "metadata": {},
   "outputs": [],
   "source": []
  }
 ],
 "metadata": {
  "kernelspec": {
   "display_name": "Python 3",
   "language": "python",
   "name": "python3"
  },
  "language_info": {
   "codemirror_mode": {
    "name": "ipython",
    "version": 3
   },
   "file_extension": ".py",
   "mimetype": "text/x-python",
   "name": "python",
   "nbconvert_exporter": "python",
   "pygments_lexer": "ipython3",
   "version": "3.6.4"
  }
 },
 "nbformat": 4,
 "nbformat_minor": 2
}
